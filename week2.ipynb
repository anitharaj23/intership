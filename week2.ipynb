{
  "nbformat": 4,
  "nbformat_minor": 0,
  "metadata": {
    "colab": {
      "provenance": [],
      "authorship_tag": "ABX9TyND+RSVXDDJu6FAszUAtIth",
      "include_colab_link": true
    },
    "kernelspec": {
      "name": "python3",
      "display_name": "Python 3"
    },
    "language_info": {
      "name": "python"
    }
  },
  "cells": [
    {
      "cell_type": "markdown",
      "metadata": {
        "id": "view-in-github",
        "colab_type": "text"
      },
      "source": [
        "<a href=\"https://colab.research.google.com/github/anitharaj23/intership/blob/main/week2.ipynb\" target=\"_parent\"><img src=\"https://colab.research.google.com/assets/colab-badge.svg\" alt=\"Open In Colab\"/></a>"
      ]
    },
    {
      "cell_type": "code",
      "execution_count": null,
      "metadata": {
        "colab": {
          "base_uri": "https://localhost:8080/"
        },
        "id": "WdnpE5T2CjAn",
        "outputId": "193c58df-6724-4000-d52c-31c100dcbe26"
      },
      "outputs": [
        {
          "output_type": "stream",
          "name": "stdout",
          "text": [
            "You are in a dark room. There are two doors in front of you.\n",
            "Which door do you choose? (1 or 2)\n"
          ]
        }
      ],
      "source": [
        "\n",
        "\n",
        "# Initialize player's location\n",
        "current_room = \"start\"\n",
        "\n",
        "# Game loop\n",
        "while True:\n",
        "    # Display current room description\n",
        "    if current_room == \"start\":\n",
        "        print(\"You are in a dark room. There are two doors in front of you.\")\n",
        "        print(\"Which door do you choose? (1 or 2)\")\n",
        "\n",
        "        # Get user input\n",
        "        choice = input(\"> \")\n",
        "\n",
        "        # Update player's location based on choice\n",
        "        if choice == \"1\":\n",
        "            current_room = \"treasure\"\n",
        "        elif choice == \"2\":\n",
        "            current_room = \"monster\"\n",
        "        else:\n",
        "            print(\"Invalid choice. Try again.\")\n",
        "\n",
        "    elif current_room == \"treasure\":\n",
        "        print(\"Congratulations! You found the treasure. You win!\")\n",
        "        break\n",
        "\n",
        "    elif current_room == \"monster\":\n",
        "        print(\"Oh no! A monster ate you. Game over!\")\n",
        "        break\n",
        "\n",
        "    else:\n",
        "        print(\"Invalid room. Something went wrong.\")\n",
        "        break"
      ]
    },
    {
      "cell_type": "code",
      "source": [],
      "metadata": {
        "id": "q0pyybguClbb"
      },
      "execution_count": null,
      "outputs": []
    }
  ]
}